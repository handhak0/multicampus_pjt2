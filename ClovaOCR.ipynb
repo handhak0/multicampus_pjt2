{
  "cells": [
    {
      "cell_type": "code",
      "execution_count": null,
      "metadata": {
        "colab": {
          "base_uri": "https://localhost:8080/"
        },
        "id": "4apOrnCe3AaK",
        "outputId": "84853622-3c76-42de-d2f4-448290421310"
      },
      "outputs": [],
      "source": [
        "import requests\n",
        "import uuid\n",
        "import time\n",
        "import json\n",
        "\n",
        "with open('./data/api_url.txt','r') as api_url : \n",
        "    api_url = api_url.readline()\n",
        "\n",
        "with open('./data/secret_key.txt','r') as secret_key : \n",
        "    secret_key = secret_key.readline()\n",
        "\n",
        "image_file = './data/20211019_172952.png'\n",
        "output_file = './output.json'\n",
        "\n",
        "request_json = {\n",
        "    'images': [\n",
        "        {\n",
        "            'format': 'png',\n",
        "            'name': 'demo',\n",
        "            'templateIds': [11112]\n",
        "        }\n",
        "    ],\n",
        "    'requestId': str(uuid.uuid4()),\n",
        "    'version': 'V2',\n",
        "    'timestamp': int(round(time.time() * 1000))\n",
        "}\n",
        "\n",
        "payload = {'message': json.dumps(request_json).encode('UTF-8')}\n",
        "files = [\n",
        "  ('file', open(image_file,'rb'))\n",
        "]\n",
        "headers = {\n",
        "  'X-OCR-SECRET': secret_key\n",
        "}\n",
        "\n",
        "response = requests.request(\"POST\", api_url, headers=headers, data = payload, files = files)\n",
        "\n",
        "res = json.loads(response.text.encode('utf8'))\n",
        "print(res)\n",
        "\n",
        "with open(output_file, 'w', encoding='utf-8') as outfile:\n",
        "    json.dump(res, outfile, indent=4, ensure_ascii=False)"
      ]
    },
    {
      "cell_type": "code",
      "execution_count": 11,
      "metadata": {},
      "outputs": [],
      "source": [
        "# 날짜\n",
        "date = res['images'][0]['fields'][0]['inferText'].split('\\n')\n",
        "\n",
        "# 시간\n",
        "time = res['images'][0]['fields'][1]['inferText'].split('\\n')\n",
        "\n",
        "# 수집동의\n",
        "checkbox = res['images'][0]['fields'][2]['inferText'].split('\\n')\n",
        "\n",
        "# 시군구\n",
        "sigungu = res['images'][0]['fields'][3]['inferText'].split('\\n')\n",
        "\n",
        "# 전화번호\n",
        "tel = res['images'][0]['fields'][3]['inferText'].split('\\n')\n",
        "\n",
        "# 비고\n",
        "extra = res['images'][0]['fields'][4]['inferText'].split('\\n')"
      ]
    },
    {
      "cell_type": "code",
      "execution_count": 19,
      "metadata": {},
      "outputs": [],
      "source": [
        "# max length \n",
        "length = 0 \n",
        "li = [date, time, checkbox, sigungu, tel, extra]\n",
        "for i in li : \n",
        "    length = max(len(i), length)\n",
        "\n",
        "\n",
        "# 패딩 맞춰주기 \n",
        "import numpy as np \n",
        "df_li = []\n",
        "for i in li :\n",
        "     df_li.append(np.pad(i, (0,length - len(i)), 'constant', constant_values=0))"
      ]
    },
    {
      "cell_type": "code",
      "execution_count": null,
      "metadata": {},
      "outputs": [],
      "source": [
        "import pandas as pd\n",
        "df = pd.DataFrame(df_li).transpose()\n",
        "df.columns = ['date', 'time', 'checkbox', 'sigungu', 'tel', 'extra']\n",
        "df"
      ]
    },
    {
      "cell_type": "code",
      "execution_count": null,
      "metadata": {},
      "outputs": [],
      "source": []
    }
  ],
  "metadata": {
    "colab": {
      "collapsed_sections": [],
      "name": "CLOVAOCR.ipynb",
      "provenance": []
    },
    "interpreter": {
      "hash": "8ca95d9937370959fe53b3f81cea8b7fb579a8b2e40b3ed544c9c6bb9cfba242"
    },
    "kernelspec": {
      "display_name": "Python 3.7.3 64-bit ('base': conda)",
      "name": "python3"
    },
    "language_info": {
      "codemirror_mode": {
        "name": "ipython",
        "version": 3
      },
      "file_extension": ".py",
      "mimetype": "text/x-python",
      "name": "python",
      "nbconvert_exporter": "python",
      "pygments_lexer": "ipython3",
      "version": "3.7.3"
    }
  },
  "nbformat": 4,
  "nbformat_minor": 0
}
